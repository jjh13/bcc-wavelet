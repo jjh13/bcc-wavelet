{
 "cells": [
  {
   "cell_type": "markdown",
   "metadata": {},
   "source": [
    "## Load Utilities\n",
    "Load all the utilities we need, ``utilities.sage`` includes most of the utilities we need (the dual low pass solve, functions to "
   ]
  },
  {
   "cell_type": "code",
   "execution_count": 1,
   "metadata": {
    "collapsed": false
   },
   "outputs": [],
   "source": [
    "import sage.libs.ecl\n",
    "sage.libs.ecl.ecl_eval(\"(ext:set-limit 'ext:heap-size 0)\")\n",
    "\n",
    "load('utility.sage')\n",
    "load('cfe.sage')"
   ]
  },
  {
   "cell_type": "code",
   "execution_count": 4,
   "metadata": {
    "collapsed": false
   },
   "outputs": [],
   "source": [
    "L = matrix(SR, [\n",
    "        [-1,1,1],\n",
    "        [1,-1,1],\n",
    "        [1,1,-1]\n",
    "    ])\n",
    "\n",
    "Lt = L.transpose().inverse()\n",
    "\n",
    "pi_ = [\n",
    "    vector([0,0,0]),\n",
    "    vector([pi,0,0]),\n",
    "    vector([0,pi,0]),\n",
    "    vector([pi,pi,0]),\n",
    "    vector([0, 0,pi]),\n",
    "    vector([pi,0,pi]),\n",
    "    vector([0,pi,pi]),\n",
    "    vector([pi,pi,pi]),\n",
    "]\n",
    "\n",
    "pi_l = [Lt*p for p in pi_]\n",
    "\n",
    "bases = [\n",
    "    (1, vector([2,0,0])),\n",
    "    (1, vector([0,2,0])),\n",
    "    (1, vector([0,0,2])),\n",
    "    (1/2, vector([-1,1,1])),\n",
    "    (1/2, vector([1,-1,1])),\n",
    "    (1/2, vector([1,1,-1])),\n",
    "    (1/2, vector([-1,-1,-1])),\n",
    "]\n",
    "\n",
    "\n",
    "\n",
    "# Setup the inital dual, with an empty low pass\n",
    "md = [[]] + [extend_along(2, w, _) for w,_ in bases]\n",
    "\n",
    "# \n",
    "M_D = [filter_to_zdomain(_, L) for _ in md]\n",
    "Z = [var('z_0'), var('z_1'), var('z_2')]"
   ]
  },
  {
   "cell_type": "code",
   "execution_count": null,
   "metadata": {
    "collapsed": false
   },
   "outputs": [],
   "source": []
  },
  {
   "cell_type": "code",
   "execution_count": 5,
   "metadata": {
    "collapsed": false
   },
   "outputs": [],
   "source": [
    "D = matrix([[m.subs({z:(w/z) for (w, z) in zip(expl(-I*p), Z)}) for m in M_D[1:]] for p in pi_[1:]])\n",
    "M_0 = D.det()  *(1/(z_0*z_1*z_2))^2"
   ]
  },
  {
   "cell_type": "code",
   "execution_count": 6,
   "metadata": {
    "collapsed": false
   },
   "outputs": [],
   "source": [
    "M_0.expand().factor()\n",
    "LP = zdomain_to_filter(M_0, 3, L)\n",
    "points([p for p,_ in LP])\n",
    "c = CFE(LP)"
   ]
  },
  {
   "cell_type": "code",
   "execution_count": 7,
   "metadata": {
    "collapsed": false
   },
   "outputs": [
    {
     "data": {
      "text/html": [
       "\n",
       "<iframe srcdoc=\"\n",
       "<html>\n",
       "<head>\n",
       "  <style>\n",
       "    * {\n",
       "      margin: 0;\n",
       "      padding: 0;\n",
       "      overflow: hidden;\n",
       "    }\n",
       "    body, html {      \n",
       "      height: 100%;\n",
       "      width: 100%;\n",
       "    }\n",
       "  </style>\n",
       "  <script type=&quot;text/javascript&quot; src=&quot;/nbextensions/jsmol/JSmol.min.js&quot;></script>\n",
       "</head>\n",
       "<body>\n",
       "  <script type=&quot;text/javascript&quot;>\n",
       "    var script = [\n",
       "  'data &quot;model list&quot;',\n",
       "  '10',\n",
       "  'empty',\n",
       "  'Xx -3.0 -4.0 -3.0',\n",
       "  'Xx 0.0 -4.0 -3.0',\n",
       "  'Xx 3.0 -4.0 -3.0',\n",
       "  'Xx 4.0 -3.0 -3.0',\n",
       "  'Xx 4.0 0.0 -3.0',\n",
       "  'Xx 4.0 3.0 -3.0',\n",
       "  'Xx -4.0 -3.0 -3.0',\n",
       "  'Xx -4.0 -3.0 0.0',\n",
       "  'Xx -4.0 -3.0 3.0',\n",
       "  'Xx 5.5 5.5 5.5',\n",
       "  'end &quot;model list&quot;; show data',\n",
       "  'select *',\n",
       "  'wireframe off; spacefill off',\n",
       "  'set labelOffset 0 0',\n",
       "  'background [255,255,255]',\n",
       "  'spin OFF',\n",
       "  'moveto 0 -764 -346 -545 76.39',\n",
       "  'centerAt absolute {0 0 0}',\n",
       "  'zoom 100',\n",
       "  'frank OFF',\n",
       "  'set perspectivedepth ON',\n",
       "  'draw point_1 DIAMETER 5 {0.0 3.0 0.0}',\n",
       "  'color $point_1  [102,102,255]',\n",
       "  'draw point_2 DIAMETER 5 {0.0 -3.0 0.0}',\n",
       "  'color $point_2  [102,102,255]',\n",
       "  'draw point_3 DIAMETER 5 {1.5 1.5 -1.5}',\n",
       "  'color $point_3  [102,102,255]',\n",
       "  'draw point_4 DIAMETER 5 {0.0 0.0 3.0}',\n",
       "  'color $point_4  [102,102,255]',\n",
       "  'draw point_5 DIAMETER 5 {-1.5 1.5 1.5}',\n",
       "  'color $point_5  [102,102,255]',\n",
       "  'draw point_6 DIAMETER 5 {1.5 -1.5 -1.5}',\n",
       "  'color $point_6  [102,102,255]',\n",
       "  'draw point_7 DIAMETER 5 {0.0 0.0 -3.0}',\n",
       "  'color $point_7  [102,102,255]',\n",
       "  'draw point_8 DIAMETER 5 {0.0 0.0 0.0}',\n",
       "  'color $point_8  [102,102,255]',\n",
       "  'draw point_9 DIAMETER 5 {1.5 -1.5 1.5}',\n",
       "  'color $point_9  [102,102,255]',\n",
       "  'draw point_10 DIAMETER 5 {-1.5 1.5 -1.5}',\n",
       "  'color $point_10  [102,102,255]',\n",
       "  'draw point_11 DIAMETER 5 {-3.0 0.0 0.0}',\n",
       "  'color $point_11  [102,102,255]',\n",
       "  'draw point_12 DIAMETER 5 {1.5 1.5 1.5}',\n",
       "  'color $point_12  [102,102,255]',\n",
       "  'draw point_13 DIAMETER 5 {3.0 0.0 0.0}',\n",
       "  'color $point_13  [102,102,255]',\n",
       "  'draw point_14 DIAMETER 5 {-1.5 -1.5 1.5}',\n",
       "  'color $point_14  [102,102,255]',\n",
       "  'draw point_15 DIAMETER 5 {-1.5 -1.5 -1.5}',\n",
       "  'color $point_15  [102,102,255]',\n",
       "  'draw line_16 diameter 1 curve {-3.0 -3.0 -3.0}  {-3.0 3.0 -3.0} ',\n",
       "  'color $line_16 translucent 0.5 [0,0,0]',\n",
       "  'draw line_17 diameter 1 curve {-3.0 3.0 -3.0}  {3.0 3.0 -3.0} ',\n",
       "  'color $line_17 translucent 0.5 [0,0,0]',\n",
       "  'draw line_18 diameter 1 curve {3.0 3.0 -3.0}  {3.0 -3.0 -3.0} ',\n",
       "  'color $line_18 translucent 0.5 [0,0,0]',\n",
       "  'draw line_19 diameter 1 curve {3.0 -3.0 -3.0}  {-3.0 -3.0 -3.0} ',\n",
       "  'color $line_19 translucent 0.5 [0,0,0]',\n",
       "  'draw line_20 diameter 1 curve {-3.0 -3.0 -3.0}  {-3.0 -3.0 3.0} ',\n",
       "  'color $line_20 translucent 0.5 [0,0,0]',\n",
       "  'draw line_21 diameter 1 curve {-3.0 -3.0 3.0}  {-3.0 3.0 3.0} ',\n",
       "  'color $line_21 translucent 0.5 [0,0,0]',\n",
       "  'draw line_22 diameter 1 curve {-3.0 3.0 3.0}  {3.0 3.0 3.0} ',\n",
       "  'color $line_22 translucent 0.5 [0,0,0]',\n",
       "  'draw line_23 diameter 1 curve {3.0 3.0 3.0}  {3.0 -3.0 3.0} ',\n",
       "  'color $line_23 translucent 0.5 [0,0,0]',\n",
       "  'draw line_24 diameter 1 curve {3.0 -3.0 3.0}  {-3.0 -3.0 3.0} ',\n",
       "  'color $line_24 translucent 0.5 [0,0,0]',\n",
       "  'draw line_25 diameter 1 curve {-3.0 -3.0 3.0} ',\n",
       "  'color $line_25 translucent 0.5 [0,0,0]',\n",
       "  'draw line_26 diameter 1 curve {-3.0 3.0 -3.0}  {-3.0 3.0 3.0} ',\n",
       "  'color $line_26 translucent 0.5 [0,0,0]',\n",
       "  'draw line_27 diameter 1 curve {3.0 -3.0 -3.0}  {3.0 -3.0 3.0} ',\n",
       "  'color $line_27 translucent 0.5 [0,0,0]',\n",
       "  'draw line_28 diameter 1 curve {3.0 3.0 -3.0}  {3.0 3.0 3.0} ',\n",
       "  'color $line_28 translucent 0.5 [0,0,0]',\n",
       "  'select atomno = 1',\n",
       "  'color atom  [76,76,76]',\n",
       "  'label &quot;-2.0&quot;',\n",
       "  'select atomno = 2',\n",
       "  'color atom  [76,76,76]',\n",
       "  'label &quot;0.0&quot;',\n",
       "  'select atomno = 3',\n",
       "  'color atom  [76,76,76]',\n",
       "  'label &quot;2.0&quot;',\n",
       "  'select atomno = 4',\n",
       "  'color atom  [76,76,76]',\n",
       "  'label &quot;-2.0&quot;',\n",
       "  'select atomno = 5',\n",
       "  'color atom  [76,76,76]',\n",
       "  'label &quot;0.0&quot;',\n",
       "  'select atomno = 6',\n",
       "  'color atom  [76,76,76]',\n",
       "  'label &quot;2.0&quot;',\n",
       "  'select atomno = 7',\n",
       "  'color atom  [76,76,76]',\n",
       "  'label &quot;-2.0&quot;',\n",
       "  'select atomno = 8',\n",
       "  'color atom  [76,76,76]',\n",
       "  'label &quot;0.0&quot;',\n",
       "  'select atomno = 9',\n",
       "  'color atom  [76,76,76]',\n",
       "  'label &quot;2.0&quot;',\n",
       "  'isosurface fullylit; pmesh o* fullylit; set antialiasdisplay on;',\n",
       "].join('\\n');;\n",
       "    var Info = {\n",
       "      width: '100%',\n",
       "      height: '500',\n",
       "      debug: false,\n",
       "      disableInitialConsole: true,   // very slow when used with inline mesh\n",
       "      color: '#3131ff',\n",
       "      addSelectionOptions: false,\n",
       "      use: 'HTML5',\n",
       "      j2sPath: '/nbextensions/jsmol/j2s',\n",
       "      script: script,\n",
       "    };\n",
       "    var jmolApplet0 = Jmol.getApplet('jmolApplet0', Info);\n",
       "  </script>\n",
       "</body>\n",
       "</html>\n",
       "\" \n",
       "        width=\"100%\"\n",
       "        height=\"500\"\n",
       "        style=\"border: 0;\">\n",
       "</iframe>\n"
      ],
      "text/plain": [
       "Graphics3d Object"
      ]
     },
     "execution_count": 7,
     "metadata": {},
     "output_type": "execute_result"
    }
   ],
   "source": [
    "c.plot()"
   ]
  },
  {
   "cell_type": "code",
   "execution_count": 9,
   "metadata": {
    "collapsed": true
   },
   "outputs": [],
   "source": [
    "p_,q_ = 1, 1"
   ]
  },
  {
   "cell_type": "code",
   "execution_count": 10,
   "metadata": {
    "collapsed": false
   },
   "outputs": [
    {
     "name": "stdout",
     "output_type": "stream",
     "text": [
      "creating ring..\n",
      "giving it symmetry...\n",
      "making filter..\n",
      "Solving...\n",
      "[c_0, c_1]\n",
      "No solution, increasing filter ring\n",
      "creating ring..\n",
      "giving it symmetry...\n",
      "making filter..\n",
      "Solving...\n",
      "[c_0, c_1, c_2]\n",
      "Got solution\n"
     ]
    }
   ],
   "source": [
    "\n",
    "# This is hard coded for this case, \n",
    "# it works out if you calculate the DET\n",
    "\n",
    "D = -2\n",
    "\n",
    "f = c\n",
    "cq = c\n",
    "for i in xrange(1,q_):\n",
    "    cq = cq*c\n",
    "    \n",
    "for i in xrange(1,q_ + 1):\n",
    "    f = f*c\n",
    "\n",
    "f = find_dual_lp(f)\n",
    "\n",
    "m_0d = cq * f\n",
    "md[0] = m_0d.filter"
   ]
  },
  {
   "cell_type": "code",
   "execution_count": 18,
   "metadata": {
    "collapsed": true
   },
   "outputs": [],
   "source": []
  },
  {
   "cell_type": "code",
   "execution_count": 11,
   "metadata": {
    "collapsed": false
   },
   "outputs": [],
   "source": [
    "M_D = [filter_to_zdomain(_, L) for _ in md]\n",
    "A = matrix([[m.subs({z:(w/z) for (w, z) in zip(expl(-I*p), Z)}) for m in M_D[0:]] for p in pi_[0:]])"
   ]
  },
  {
   "cell_type": "code",
   "execution_count": 12,
   "metadata": {
    "collapsed": false
   },
   "outputs": [],
   "source": [
    "def solve_for_dual(idx, A):\n",
    "    __ = idx\n",
    "    S = matrix([\n",
    "        [A[i,j] for j in xrange(0,8) if j != __]\n",
    "    for i in xrange(0,8) if i != 0])\n",
    "    return S.det()*((-1)**__)"
   ]
  },
  {
   "cell_type": "code",
   "execution_count": 13,
   "metadata": {
    "collapsed": true
   },
   "outputs": [],
   "source": [
    "# Solve for all the duals\n",
    "m_0 = solve_for_dual(0, A)\n",
    "m_1 = solve_for_dual(1, A)\n",
    "m_2 = solve_for_dual(2, A)\n",
    "m_3 = solve_for_dual(3, A)\n",
    "m_4 = solve_for_dual(4, A)\n",
    "m_5 = solve_for_dual(5, A)\n",
    "m_6 = solve_for_dual(6, A)\n",
    "m_7 = solve_for_dual(7, A)"
   ]
  },
  {
   "cell_type": "code",
   "execution_count": null,
   "metadata": {
    "collapsed": false
   },
   "outputs": [],
   "source": []
  },
  {
   "cell_type": "code",
   "execution_count": 14,
   "metadata": {
    "collapsed": false
   },
   "outputs": [
    {
     "name": "stdout",
     "output_type": "stream",
     "text": [
      "2\n"
     ]
    }
   ],
   "source": [
    "# Normalize the family\n",
    "m_0f = CFE(zdomain_to_filter(m_0, 3, L))\n",
    "D = taylor(filter_dft(m_0f.filter), [w_0, w_1, w_2], 0,0)\n",
    "print D\n",
    "\n",
    "m = [c, \n",
    "    CFE(zdomain_to_filter(m_1* (1/D), 3, L)),\n",
    "    CFE(zdomain_to_filter(m_2* (1/D), 3, L)), \n",
    "    CFE(zdomain_to_filter(m_3* (1/D), 3, L)), \n",
    "    CFE(zdomain_to_filter(m_4*(1/D), 3, L)), \n",
    "    CFE(zdomain_to_filter(m_5 *(1/D), 3, L)), \n",
    "    CFE(zdomain_to_filter(m_6*(1/D), 3, L)), \n",
    "    CFE(zdomain_to_filter(m_7*(1/D), 3, L))]"
   ]
  },
  {
   "cell_type": "code",
   "execution_count": null,
   "metadata": {
    "collapsed": true
   },
   "outputs": [],
   "source": []
  },
  {
   "cell_type": "code",
   "execution_count": 15,
   "metadata": {
    "collapsed": true
   },
   "outputs": [],
   "source": [
    "#Setup for the next stage of boot strapping\n",
    "\n",
    "m[0] = CFE(md[0])\n",
    "\n",
    "md[1] = m[1]\n",
    "md[2] = m[2]\n",
    "md[3] = m[3]\n",
    "md[4] = m[4]\n",
    "md[5] = m[5]\n",
    "md[6] = m[6]\n",
    "md[7] = m[7]"
   ]
  },
  {
   "cell_type": "code",
   "execution_count": null,
   "metadata": {
    "collapsed": true
   },
   "outputs": [],
   "source": []
  },
  {
   "cell_type": "code",
   "execution_count": 16,
   "metadata": {
    "collapsed": false
   },
   "outputs": [
    {
     "name": "stdout",
     "output_type": "stream",
     "text": [
      "creating ring..\n",
      "giving it symmetry...\n",
      "making filter..\n",
      "Solving...\n",
      "[c_0, c_1]\n",
      "Got solution\n"
     ]
    }
   ],
   "source": [
    "# Next stage, swap filters and find dual\n",
    "g = c\n",
    "cp = c\n",
    "for i in xrange(1, p_):\n",
    "    cp = cp * c\n",
    "\n",
    "    \n",
    "g = find_dual_lp(m[0]*cp,2)\n",
    "\n",
    "md[0] = g * cp"
   ]
  },
  {
   "cell_type": "code",
   "execution_count": null,
   "metadata": {
    "collapsed": true
   },
   "outputs": [],
   "source": []
  },
  {
   "cell_type": "code",
   "execution_count": 17,
   "metadata": {
    "collapsed": true
   },
   "outputs": [],
   "source": [
    "M_D = [filter_to_zdomain(_.filter, L) for _ in md]\n",
    "A = matrix([[m.subs({z:(w/z) for (w, z) in zip(expl(-I*p), Z)}) for m in M_D[0:]] for p in pi_[0:]])"
   ]
  },
  {
   "cell_type": "code",
   "execution_count": null,
   "metadata": {
    "collapsed": true
   },
   "outputs": [],
   "source": []
  },
  {
   "cell_type": "code",
   "execution_count": 18,
   "metadata": {
    "collapsed": true
   },
   "outputs": [],
   "source": [
    "# We need the constant factor, so we manually solve for this guy, and \n",
    "# Do a taylor expansion to grab D, we should technically know m_0a already \n",
    "m_0a = solve_for_dual(0, A)"
   ]
  },
  {
   "cell_type": "code",
   "execution_count": 19,
   "metadata": {
    "collapsed": true
   },
   "outputs": [],
   "source": [
    "m_0af = CFE(zdomain_to_filter(m_0a, 3, L))"
   ]
  },
  {
   "cell_type": "code",
   "execution_count": null,
   "metadata": {
    "collapsed": true
   },
   "outputs": [],
   "source": [
    "D = taylor(filter_dft(m_0af.filter), [w_0, w_1, w_2], 0, 0)"
   ]
  },
  {
   "cell_type": "code",
   "execution_count": null,
   "metadata": {
    "collapsed": true
   },
   "outputs": [],
   "source": []
  },
  {
   "cell_type": "code",
   "execution_count": null,
   "metadata": {
    "collapsed": true
   },
   "outputs": [],
   "source": [
    "m_1a = solve_for_dual(1, A)\n",
    "m_2a = solve_for_dual(2, A)\n",
    "m_3a = solve_for_dual(3, A)\n",
    "m_4a = solve_for_dual(4, A)\n",
    "m_5a = solve_for_dual(5, A)\n",
    "m_6a = solve_for_dual(6, A)\n",
    "m_7a = solve_for_dual(7, A)"
   ]
  },
  {
   "cell_type": "code",
   "execution_count": null,
   "metadata": {
    "collapsed": true
   },
   "outputs": [],
   "source": []
  }
 ],
 "metadata": {
  "kernelspec": {
   "display_name": "SageMath 7.2",
   "language": "",
   "name": "sagemath"
  },
  "language_info": {
   "codemirror_mode": {
    "name": "ipython",
    "version": 2
   },
   "file_extension": ".py",
   "mimetype": "text/x-python",
   "name": "python",
   "nbconvert_exporter": "python",
   "pygments_lexer": "ipython2",
   "version": "2.7.10"
  }
 },
 "nbformat": 4,
 "nbformat_minor": 0
}
